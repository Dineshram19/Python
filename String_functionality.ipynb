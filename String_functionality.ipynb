{
  "nbformat": 4,
  "nbformat_minor": 0,
  "metadata": {
    "colab": {
      "provenance": []
    },
    "kernelspec": {
      "name": "python3",
      "display_name": "Python 3"
    },
    "language_info": {
      "name": "python"
    }
  },
  "cells": [
    {
      "cell_type": "code",
      "execution_count": null,
      "metadata": {
        "colab": {
          "base_uri": "https://localhost:8080/"
        },
        "id": "uSAdrOVSE0YR",
        "outputId": "bec91a59-5fda-43e5-80d2-c54ef14a775f"
      },
      "outputs": [
        {
          "output_type": "stream",
          "name": "stdout",
          "text": [
            "SACHINE TENDULKAR\n",
            "sachine tendulkar\n",
            "sACHINE tENDULKAR\n"
          ]
        }
      ],
      "source": [
        "a= \"Sachine Tendulkar\"\n",
        "print (a.upper()) \n",
        "print (a.lower())\n",
        "print (a.swapcase())"
      ]
    },
    {
      "cell_type": "code",
      "source": [
        "print (a.islower())\n",
        "print (a.isupper())\n",
        "print (a.isdigit())\n"
      ],
      "metadata": {
        "colab": {
          "base_uri": "https://localhost:8080/"
        },
        "id": "-E_O1vOkGYLH",
        "outputId": "2d18d4b2-a104-4646-ff1a-c8eef6e12bca"
      },
      "execution_count": null,
      "outputs": [
        {
          "output_type": "stream",
          "name": "stdout",
          "text": [
            "False\n",
            "False\n",
            "False\n"
          ]
        }
      ]
    },
    {
      "cell_type": "code",
      "source": [
        "print (a.isalpha()) # isalpha define any alpahabets in variable in a. space will be excluded. \n",
        "print (a.isalnum()) # isalnum define any numebr or alphabate in variable a, space will be excluded."
      ],
      "metadata": {
        "colab": {
          "base_uri": "https://localhost:8080/"
        },
        "id": "AdMkJ211GntO",
        "outputId": "a05a2530-401f-40ed-88ea-1abd0bebf8c3"
      },
      "execution_count": null,
      "outputs": [
        {
          "output_type": "stream",
          "name": "stdout",
          "text": [
            "False\n",
            "False\n"
          ]
        }
      ]
    },
    {
      "cell_type": "code",
      "source": [
        "a= \"Sachin Tendulkar\"\n",
        "print (a[7]) #indexing"
      ],
      "metadata": {
        "colab": {
          "base_uri": "https://localhost:8080/"
        },
        "id": "2sFXqZPNIhtr",
        "outputId": "9b5e6bd9-daef-498e-ecba-c9425fd76375"
      },
      "execution_count": null,
      "outputs": [
        {
          "output_type": "stream",
          "name": "stdout",
          "text": [
            "T\n"
          ]
        }
      ]
    },
    {
      "cell_type": "code",
      "source": [
        "#start : end : interval "
      ],
      "metadata": {
        "id": "QUGWP4EOIroA"
      },
      "execution_count": null,
      "outputs": []
    },
    {
      "cell_type": "code",
      "source": [
        "print (a[3:10])"
      ],
      "metadata": {
        "colab": {
          "base_uri": "https://localhost:8080/"
        },
        "id": "jaxqSJaKI8gy",
        "outputId": "065d2769-e0eb-463d-878a-54cf2f0df48c"
      },
      "execution_count": null,
      "outputs": [
        {
          "output_type": "stream",
          "name": "stdout",
          "text": [
            "hin Ten\n"
          ]
        }
      ]
    },
    {
      "cell_type": "code",
      "source": [
        "print (a[::])"
      ],
      "metadata": {
        "colab": {
          "base_uri": "https://localhost:8080/"
        },
        "id": "wuwqebrDJBey",
        "outputId": "8aedfeec-7060-43c9-e2d4-e88cec11be4a"
      },
      "execution_count": null,
      "outputs": [
        {
          "output_type": "stream",
          "name": "stdout",
          "text": [
            "Sachin Tendulkar\n"
          ]
        }
      ]
    },
    {
      "cell_type": "code",
      "source": [
        "print (a[::3]) #Eg: sachin tendulkar S skips 3 letters then calculate h and so on. "
      ],
      "metadata": {
        "colab": {
          "base_uri": "https://localhost:8080/"
        },
        "id": "PfGjMnb8JJAb",
        "outputId": "230e7eb1-3a93-423a-f173-d66baad7991b"
      },
      "execution_count": null,
      "outputs": [
        {
          "output_type": "stream",
          "name": "stdout",
          "text": [
            "Sh nlr\n"
          ]
        }
      ]
    },
    {
      "cell_type": "code",
      "source": [
        "print (a[::-1]) # Reverse string important question in interview."
      ],
      "metadata": {
        "colab": {
          "base_uri": "https://localhost:8080/"
        },
        "id": "d-k9LDLNJdgh",
        "outputId": "14e2e7de-73f8-419e-f587-21128ae44a79"
      },
      "execution_count": null,
      "outputs": [
        {
          "output_type": "stream",
          "name": "stdout",
          "text": [
            "rakludneT nihcaS\n"
          ]
        }
      ]
    },
    {
      "cell_type": "code",
      "source": [
        "print (a[-1])"
      ],
      "metadata": {
        "colab": {
          "base_uri": "https://localhost:8080/"
        },
        "id": "-OKg0Sy9Jwje",
        "outputId": "753d66c1-c9f5-4883-c00e-0b8d23774c44"
      },
      "execution_count": null,
      "outputs": [
        {
          "output_type": "stream",
          "name": "stdout",
          "text": [
            "r\n"
          ]
        }
      ]
    },
    {
      "cell_type": "code",
      "source": [
        "a.index(\"n\")"
      ],
      "metadata": {
        "colab": {
          "base_uri": "https://localhost:8080/"
        },
        "id": "ZAG9VY2mKopd",
        "outputId": "6cc24e18-9092-4686-8401-3de6d17d1a22"
      },
      "execution_count": null,
      "outputs": [
        {
          "output_type": "execute_result",
          "data": {
            "text/plain": [
              "5"
            ]
          },
          "metadata": {},
          "execution_count": 23
        }
      ]
    },
    {
      "cell_type": "code",
      "source": [
        "a.index(\"a\")"
      ],
      "metadata": {
        "colab": {
          "base_uri": "https://localhost:8080/"
        },
        "id": "qsJivWBiKux3",
        "outputId": "e84335eb-8c15-4b1a-c710-d64c81c187f5"
      },
      "execution_count": null,
      "outputs": [
        {
          "output_type": "execute_result",
          "data": {
            "text/plain": [
              "1"
            ]
          },
          "metadata": {},
          "execution_count": 10
        }
      ]
    },
    {
      "cell_type": "code",
      "source": [
        "a= \"Sachin Tendulkar\"\n",
        "a.index(\"a\",2,)"
      ],
      "metadata": {
        "colab": {
          "base_uri": "https://localhost:8080/"
        },
        "id": "UACXenSAKzVW",
        "outputId": "2acedd0d-780d-4084-883c-d861a5696792"
      },
      "execution_count": null,
      "outputs": [
        {
          "output_type": "execute_result",
          "data": {
            "text/plain": [
              "14"
            ]
          },
          "metadata": {},
          "execution_count": 9
        }
      ]
    },
    {
      "cell_type": "code",
      "source": [
        "a.rindex(\"a\") # R refers to finding reversal index. # Sachin Tendulkar"
      ],
      "metadata": {
        "colab": {
          "base_uri": "https://localhost:8080/"
        },
        "id": "VMrjxxXlLPy2",
        "outputId": "04cf01e3-8409-4ea3-88d7-4f9f964b895e"
      },
      "execution_count": null,
      "outputs": [
        {
          "output_type": "execute_result",
          "data": {
            "text/plain": [
              "14"
            ]
          },
          "metadata": {},
          "execution_count": 29
        }
      ]
    },
    {
      "cell_type": "code",
      "source": [
        "a.find(\"n\")"
      ],
      "metadata": {
        "colab": {
          "base_uri": "https://localhost:8080/"
        },
        "id": "qXfXi4ouLYox",
        "outputId": "78ef2341-ec04-405e-c8bb-ec9f805a7ee8"
      },
      "execution_count": null,
      "outputs": [
        {
          "output_type": "execute_result",
          "data": {
            "text/plain": [
              "5"
            ]
          },
          "metadata": {},
          "execution_count": 31
        }
      ]
    },
    {
      "cell_type": "code",
      "source": [
        "a.find(\"a\")"
      ],
      "metadata": {
        "colab": {
          "base_uri": "https://localhost:8080/"
        },
        "id": "njVSOVSYLcXu",
        "outputId": "5f608e41-4e8e-4c66-fe2c-36a2373a7792"
      },
      "execution_count": null,
      "outputs": [
        {
          "output_type": "execute_result",
          "data": {
            "text/plain": [
              "1"
            ]
          },
          "metadata": {},
          "execution_count": 33
        }
      ]
    },
    {
      "cell_type": "code",
      "source": [
        "a.find(\"z\") # index refers to find the alphabetic number where find use to run a program with out failing . (incase alphabet not exist output will be -1)"
      ],
      "metadata": {
        "colab": {
          "base_uri": "https://localhost:8080/"
        },
        "id": "9BmeAfDKLiss",
        "outputId": "56670657-affa-47ac-9dbd-54ccdc4ad2c7"
      },
      "execution_count": null,
      "outputs": [
        {
          "output_type": "execute_result",
          "data": {
            "text/plain": [
              "-1"
            ]
          },
          "metadata": {},
          "execution_count": 36
        }
      ]
    },
    {
      "cell_type": "code",
      "source": [
        "a= \"Sachin Tendulkar\""
      ],
      "metadata": {
        "id": "_5PdeEFqMH8r"
      },
      "execution_count": null,
      "outputs": []
    },
    {
      "cell_type": "code",
      "source": [
        "a.split(\"a\")"
      ],
      "metadata": {
        "colab": {
          "base_uri": "https://localhost:8080/"
        },
        "id": "SI6gfs2pMrgL",
        "outputId": "ffda47f4-05c5-4b08-f5f1-22eac7e76735"
      },
      "execution_count": null,
      "outputs": [
        {
          "output_type": "execute_result",
          "data": {
            "text/plain": [
              "['S', 'chin Tendulk', 'r']"
            ]
          },
          "metadata": {},
          "execution_count": 39
        }
      ]
    },
    {
      "cell_type": "code",
      "source": [
        "a.split(\"a\",1)"
      ],
      "metadata": {
        "colab": {
          "base_uri": "https://localhost:8080/"
        },
        "id": "3DGwLdqbMwXL",
        "outputId": "dd0d000e-03a0-4930-820a-e8d520b0d65f"
      },
      "execution_count": null,
      "outputs": [
        {
          "output_type": "execute_result",
          "data": {
            "text/plain": [
              "['S', 'chin Tendulkar']"
            ]
          },
          "metadata": {},
          "execution_count": 42
        }
      ]
    },
    {
      "cell_type": "code",
      "source": [
        "a.replace(\"a\",\"$\")"
      ],
      "metadata": {
        "colab": {
          "base_uri": "https://localhost:8080/",
          "height": 36
        },
        "id": "hMfVHcqhM5_J",
        "outputId": "57e7cd47-1aa1-40d5-e93f-066282e07a4f"
      },
      "execution_count": null,
      "outputs": [
        {
          "output_type": "execute_result",
          "data": {
            "text/plain": [
              "'S$chin Tendulk$r'"
            ],
            "application/vnd.google.colaboratory.intrinsic+json": {
              "type": "string"
            }
          },
          "metadata": {},
          "execution_count": 45
        }
      ]
    },
    {
      "cell_type": "code",
      "source": [
        "a.replace(\"a\",\"%\",1)"
      ],
      "metadata": {
        "colab": {
          "base_uri": "https://localhost:8080/",
          "height": 36
        },
        "id": "MVwuTewZNDTR",
        "outputId": "5c0962f6-d26d-4b5e-d7be-c933da9f2107"
      },
      "execution_count": null,
      "outputs": [
        {
          "output_type": "execute_result",
          "data": {
            "text/plain": [
              "'S%chin Tendulkar'"
            ],
            "application/vnd.google.colaboratory.intrinsic+json": {
              "type": "string"
            }
          },
          "metadata": {},
          "execution_count": 47
        }
      ]
    },
    {
      "cell_type": "code",
      "source": [
        "a= \"Sachin Tendulkar\"\n",
        "print(a.startswith(\"S\"))\n",
        "print(a.endswith(\"r\"))"
      ],
      "metadata": {
        "colab": {
          "base_uri": "https://localhost:8080/"
        },
        "id": "ZsNUc_yHNKa4",
        "outputId": "d73484b4-ba73-4f90-8077-97c323283b41"
      },
      "execution_count": null,
      "outputs": [
        {
          "output_type": "stream",
          "name": "stdout",
          "text": [
            "True\n",
            "True\n"
          ]
        }
      ]
    },
    {
      "cell_type": "code",
      "source": [
        "## 30-04-2023\n",
        "\n",
        "\n",
        "a=[\"dinesh\", \"20\", \"chennai\"] ## LIST\n",
        "print (type(a))"
      ],
      "metadata": {
        "colab": {
          "base_uri": "https://localhost:8080/"
        },
        "id": "2JvEoHuZJW5C",
        "outputId": "cd40732a-77e3-43e2-c5eb-4451a4fdfa8b"
      },
      "execution_count": null,
      "outputs": [
        {
          "output_type": "stream",
          "name": "stdout",
          "text": [
            "<class 'list'>\n"
          ]
        }
      ]
    },
    {
      "cell_type": "code",
      "source": [
        "print(isinstance (a,list))"
      ],
      "metadata": {
        "colab": {
          "base_uri": "https://localhost:8080/"
        },
        "id": "PrWjkzmCKAcu",
        "outputId": "8793845c-af45-4e4d-961c-496dae098360"
      },
      "execution_count": null,
      "outputs": [
        {
          "output_type": "stream",
          "name": "stdout",
          "text": [
            "True\n"
          ]
        }
      ]
    },
    {
      "cell_type": "code",
      "source": [
        "a=[\"dinesh\", \"20\", \"chennai\"]\n",
        "print(min(a))"
      ],
      "metadata": {
        "colab": {
          "base_uri": "https://localhost:8080/"
        },
        "id": "QIg5IFK_KcuL",
        "outputId": "b3ebbfe7-805a-468e-bd62-0267a7ec3812"
      },
      "execution_count": null,
      "outputs": [
        {
          "output_type": "stream",
          "name": "stdout",
          "text": [
            "20\n"
          ]
        }
      ]
    },
    {
      "cell_type": "code",
      "source": [
        "print(max(a))"
      ],
      "metadata": {
        "colab": {
          "base_uri": "https://localhost:8080/"
        },
        "id": "7rqFtS8fLIVO",
        "outputId": "7df6b0b2-b7dd-4e0b-cd21-968d3e8b7342"
      },
      "execution_count": null,
      "outputs": [
        {
          "output_type": "stream",
          "name": "stdout",
          "text": [
            "dinesh\n"
          ]
        }
      ]
    },
    {
      "cell_type": "code",
      "source": [
        "a=[\"dinesh\", \"20\", \"chennai\"]    ## \"\" inside double codes is known as strings.  multiple characters inside the double codes is known as list.\n",
        "a[0]"
      ],
      "metadata": {
        "colab": {
          "base_uri": "https://localhost:8080/",
          "height": 36
        },
        "id": "ZEd4uK0aLe7h",
        "outputId": "7fdbd308-f9ad-4791-b9aa-1de972829745"
      },
      "execution_count": null,
      "outputs": [
        {
          "output_type": "execute_result",
          "data": {
            "text/plain": [
              "'dinesh'"
            ],
            "application/vnd.google.colaboratory.intrinsic+json": {
              "type": "string"
            }
          },
          "metadata": {},
          "execution_count": 13
        }
      ]
    },
    {
      "cell_type": "code",
      "source": [
        "print(a[::-1]) ## reverse index"
      ],
      "metadata": {
        "colab": {
          "base_uri": "https://localhost:8080/"
        },
        "id": "x8nBktNELlab",
        "outputId": "ee53e361-2945-4749-da2a-57520a994c45"
      },
      "execution_count": null,
      "outputs": [
        {
          "output_type": "stream",
          "name": "stdout",
          "text": [
            "['chennai', '20', 'dinesh']\n"
          ]
        }
      ]
    },
    {
      "cell_type": "code",
      "source": [
        "a=[\"dinesh\", \"20\", \"chennai\"]\n",
        "print(a[::-2])"
      ],
      "metadata": {
        "colab": {
          "base_uri": "https://localhost:8080/"
        },
        "id": "nplaaiCWMZyB",
        "outputId": "9a6e4a50-9cfe-4c48-82ac-7d8587127e60"
      },
      "execution_count": null,
      "outputs": [
        {
          "output_type": "stream",
          "name": "stdout",
          "text": [
            "['chennai', 'dinesh']\n"
          ]
        }
      ]
    },
    {
      "cell_type": "code",
      "source": [
        "a=[\"dinesh\", \"20\", \"chennai\"]\n",
        "print(sorted(a))"
      ],
      "metadata": {
        "colab": {
          "base_uri": "https://localhost:8080/"
        },
        "id": "CURpu2--NQ0L",
        "outputId": "dfa53d3f-f071-40d5-add0-5bf1d8500f03"
      },
      "execution_count": null,
      "outputs": [
        {
          "output_type": "stream",
          "name": "stdout",
          "text": [
            "['20', 'chennai', 'dinesh']\n"
          ]
        }
      ]
    },
    {
      "cell_type": "code",
      "source": [
        "a=[\"dinesh\", \"20\", \"chennai\"]\n",
        "print(len(a))"
      ],
      "metadata": {
        "colab": {
          "base_uri": "https://localhost:8080/"
        },
        "id": "twV4E72XNuVy",
        "outputId": "06f72292-fc49-4b61-ea7c-9b9e3df0c119"
      },
      "execution_count": null,
      "outputs": [
        {
          "output_type": "stream",
          "name": "stdout",
          "text": [
            "3\n"
          ]
        }
      ]
    },
    {
      "cell_type": "code",
      "source": [
        "a=[\"dinesh\", \"20\", \"chennai\"]\n",
        "a.reverse()"
      ],
      "metadata": {
        "id": "TXZXsjOWOCP8"
      },
      "execution_count": null,
      "outputs": []
    },
    {
      "cell_type": "code",
      "source": [
        "a"
      ],
      "metadata": {
        "colab": {
          "base_uri": "https://localhost:8080/"
        },
        "id": "oMKvmjjNObd-",
        "outputId": "9880d932-ddb3-40a1-e53c-c4c4c787eec4"
      },
      "execution_count": null,
      "outputs": [
        {
          "output_type": "execute_result",
          "data": {
            "text/plain": [
              "['chennai', '20', 'dinesh']"
            ]
          },
          "metadata": {},
          "execution_count": 31
        }
      ]
    },
    {
      "cell_type": "code",
      "source": [
        "a= [\"one\", \"two\", \"three\"] \n",
        "a.append(\"test\") ## append refers to adding variable inside the codes in the last line"
      ],
      "metadata": {
        "id": "iLPRITzlRzX0"
      },
      "execution_count": null,
      "outputs": []
    },
    {
      "cell_type": "code",
      "source": [
        "a"
      ],
      "metadata": {
        "colab": {
          "base_uri": "https://localhost:8080/"
        },
        "id": "-ANd0aTyR-tx",
        "outputId": "cf597f84-c4ac-4335-97ea-59273f09f55d"
      },
      "execution_count": null,
      "outputs": [
        {
          "output_type": "execute_result",
          "data": {
            "text/plain": [
              "['one', 'two', 'three', 'test']"
            ]
          },
          "metadata": {},
          "execution_count": 34
        }
      ]
    },
    {
      "cell_type": "code",
      "source": [
        "a.insert(1,\"demo\") ## insert refers to inserting a character."
      ],
      "metadata": {
        "id": "xLHj_OB5SAGy"
      },
      "execution_count": null,
      "outputs": []
    },
    {
      "cell_type": "code",
      "source": [
        "a"
      ],
      "metadata": {
        "colab": {
          "base_uri": "https://localhost:8080/"
        },
        "id": "m26bLfE1SRIl",
        "outputId": "1bfb2e62-e212-49fe-eb16-46893a48555d"
      },
      "execution_count": null,
      "outputs": [
        {
          "output_type": "execute_result",
          "data": {
            "text/plain": [
              "['one', 'demo', 'two', 'three', 'test']"
            ]
          },
          "metadata": {},
          "execution_count": 40
        }
      ]
    },
    {
      "cell_type": "code",
      "source": [
        "a.remove(\"test\")"
      ],
      "metadata": {
        "id": "9EOZTxnKSd-z"
      },
      "execution_count": null,
      "outputs": []
    },
    {
      "cell_type": "code",
      "source": [
        "a"
      ],
      "metadata": {
        "colab": {
          "base_uri": "https://localhost:8080/"
        },
        "id": "d772OPRSSiY8",
        "outputId": "e80ddec0-ffe2-4df3-f223-4911995b4b28"
      },
      "execution_count": null,
      "outputs": [
        {
          "output_type": "execute_result",
          "data": {
            "text/plain": [
              "['one', 'demo', 'two', 'three']"
            ]
          },
          "metadata": {},
          "execution_count": 43
        }
      ]
    },
    {
      "cell_type": "code",
      "source": [
        "del a [1]"
      ],
      "metadata": {
        "id": "ToXtLZmESnFA"
      },
      "execution_count": null,
      "outputs": []
    },
    {
      "cell_type": "code",
      "source": [
        "a"
      ],
      "metadata": {
        "colab": {
          "base_uri": "https://localhost:8080/"
        },
        "id": "VbsaZlLTSsSW",
        "outputId": "4551cc0e-f2b9-4e55-dba7-6a2fa7b4a9e1"
      },
      "execution_count": null,
      "outputs": [
        {
          "output_type": "execute_result",
          "data": {
            "text/plain": [
              "['one', 'two', 'three']"
            ]
          },
          "metadata": {},
          "execution_count": 45
        }
      ]
    },
    {
      "cell_type": "code",
      "source": [
        "##shallow copy (same memory) ##imp quetions \n",
        "\n",
        "a= [1,2,3]\n",
        "b=a \n",
        "a.append(4)\n",
        "print(a)\n",
        "print(b)"
      ],
      "metadata": {
        "colab": {
          "base_uri": "https://localhost:8080/"
        },
        "id": "1ZOihfeuSs6t",
        "outputId": "e43f3c7d-2103-4910-d9eb-0e72de673508"
      },
      "execution_count": null,
      "outputs": [
        {
          "output_type": "stream",
          "name": "stdout",
          "text": [
            "[1, 2, 3, 4]\n",
            "[1, 2, 3, 4]\n"
          ]
        }
      ]
    },
    {
      "cell_type": "code",
      "source": [
        "##deep copy (different memory)\n",
        "a= [1,2,3]\n",
        "b=a.copy()\n",
        "a.append(4)\n",
        "print(a)\n",
        "print(b)"
      ],
      "metadata": {
        "colab": {
          "base_uri": "https://localhost:8080/"
        },
        "id": "yJjnbfYcTioT",
        "outputId": "838acf95-da5b-4324-e0ce-0b06edff799a"
      },
      "execution_count": null,
      "outputs": [
        {
          "output_type": "stream",
          "name": "stdout",
          "text": [
            "[1, 2, 3, 4]\n",
            "[1, 2, 3]\n"
          ]
        }
      ]
    },
    {
      "cell_type": "code",
      "source": [
        "a= (\"dinesh\", \"20\", \"chennai\") ## tuple\n",
        "print(type(a))"
      ],
      "metadata": {
        "colab": {
          "base_uri": "https://localhost:8080/"
        },
        "id": "-XXghAfET3VZ",
        "outputId": "bf6b88e4-b424-419f-bfb2-2878e7fb4d48"
      },
      "execution_count": null,
      "outputs": [
        {
          "output_type": "stream",
          "name": "stdout",
          "text": [
            "<class 'tuple'>\n"
          ]
        }
      ]
    },
    {
      "cell_type": "code",
      "source": [
        "print(isinstance(a,tuple)) ##in list we can add uppend or remove but in tuple we cannot modify. tuple is faster then list. "
      ],
      "metadata": {
        "colab": {
          "base_uri": "https://localhost:8080/"
        },
        "id": "RGt5AF2AUvOw",
        "outputId": "2a548db2-7941-4277-98b7-2dc032acc2a2"
      },
      "execution_count": null,
      "outputs": [
        {
          "output_type": "stream",
          "name": "stdout",
          "text": [
            "True\n"
          ]
        }
      ]
    },
    {
      "cell_type": "code",
      "source": [
        "print(max(a))"
      ],
      "metadata": {
        "colab": {
          "base_uri": "https://localhost:8080/"
        },
        "id": "HDmh5BR3U2l0",
        "outputId": "7c1b2cd3-a56b-4a84-8393-1b3ec1836fe4"
      },
      "execution_count": null,
      "outputs": [
        {
          "output_type": "stream",
          "name": "stdout",
          "text": [
            "dinesh\n"
          ]
        }
      ]
    },
    {
      "cell_type": "code",
      "source": [
        "print(min(a))"
      ],
      "metadata": {
        "colab": {
          "base_uri": "https://localhost:8080/"
        },
        "id": "_O1yYkj3Vitn",
        "outputId": "e03a9989-223f-44d7-842b-41973e3c0bd4"
      },
      "execution_count": null,
      "outputs": [
        {
          "output_type": "stream",
          "name": "stdout",
          "text": [
            "20\n"
          ]
        }
      ]
    },
    {
      "cell_type": "code",
      "source": [
        "print(sorted(a))"
      ],
      "metadata": {
        "colab": {
          "base_uri": "https://localhost:8080/"
        },
        "id": "VwqfxYnEVrHo",
        "outputId": "9055dc4f-d990-4163-bdc9-acb36566a7ea"
      },
      "execution_count": null,
      "outputs": [
        {
          "output_type": "stream",
          "name": "stdout",
          "text": [
            "['20', 'chennai', 'dinesh']\n"
          ]
        }
      ]
    },
    {
      "cell_type": "code",
      "source": [
        "print(len(a))"
      ],
      "metadata": {
        "colab": {
          "base_uri": "https://localhost:8080/"
        },
        "id": "S5rK6yhcVtPe",
        "outputId": "edc8c3fb-7823-4bce-8f00-5355710df757"
      },
      "execution_count": null,
      "outputs": [
        {
          "output_type": "stream",
          "name": "stdout",
          "text": [
            "3\n"
          ]
        }
      ]
    },
    {
      "cell_type": "code",
      "source": [
        "a= (\"dinesh\", \"20\", \"chennai\")\n",
        "a.index(\"dinesh\")"
      ],
      "metadata": {
        "colab": {
          "base_uri": "https://localhost:8080/"
        },
        "id": "Z029SqJPVvhv",
        "outputId": "e9db2788-523a-4ae0-d1bc-faaa1e758426"
      },
      "execution_count": null,
      "outputs": [
        {
          "output_type": "execute_result",
          "data": {
            "text/plain": [
              "0"
            ]
          },
          "metadata": {},
          "execution_count": 63
        }
      ]
    },
    {
      "cell_type": "code",
      "source": [
        "##pop helps to add last value from the a\n",
        "a= [1,2,3]\n",
        "b=a.pop()\n",
        "print(a)\n",
        "print(b)"
      ],
      "metadata": {
        "colab": {
          "base_uri": "https://localhost:8080/"
        },
        "id": "DumY4ftuV7Au",
        "outputId": "8b4b97a0-d0b9-47a5-d646-43951c4b0a14"
      },
      "execution_count": null,
      "outputs": [
        {
          "output_type": "stream",
          "name": "stdout",
          "text": [
            "[1, 2]\n",
            "3\n"
          ]
        }
      ]
    },
    {
      "cell_type": "code",
      "source": [
        "a={1,1,1,1,1,2,2,2,2,3,3,3,4,5,6}\n",
        "print(type(a))"
      ],
      "metadata": {
        "colab": {
          "base_uri": "https://localhost:8080/"
        },
        "id": "a-nEUnJjWz8v",
        "outputId": "edcac33b-58f6-471c-f252-95bd5b137e3b"
      },
      "execution_count": null,
      "outputs": [
        {
          "output_type": "stream",
          "name": "stdout",
          "text": [
            "<class 'set'>\n"
          ]
        }
      ]
    },
    {
      "cell_type": "code",
      "source": [
        "print(min(a))"
      ],
      "metadata": {
        "colab": {
          "base_uri": "https://localhost:8080/"
        },
        "id": "0d2VUJwBXDnV",
        "outputId": "b15ee4ed-908c-4a91-ab0c-606d44cdfbee"
      },
      "execution_count": null,
      "outputs": [
        {
          "output_type": "stream",
          "name": "stdout",
          "text": [
            "1\n"
          ]
        }
      ]
    },
    {
      "cell_type": "code",
      "source": [
        "print(max(a))"
      ],
      "metadata": {
        "colab": {
          "base_uri": "https://localhost:8080/"
        },
        "id": "ysRxQ3mDXHAZ",
        "outputId": "1d761073-a706-4959-b84a-d1b600765b9e"
      },
      "execution_count": null,
      "outputs": [
        {
          "output_type": "stream",
          "name": "stdout",
          "text": [
            "6\n"
          ]
        }
      ]
    },
    {
      "cell_type": "code",
      "source": [
        "print(sorted(a))"
      ],
      "metadata": {
        "colab": {
          "base_uri": "https://localhost:8080/"
        },
        "id": "b_-XfRroXJ4O",
        "outputId": "af0abd0d-d079-4de5-9da1-ede0a23f610b"
      },
      "execution_count": null,
      "outputs": [
        {
          "output_type": "stream",
          "name": "stdout",
          "text": [
            "[1, 2, 3, 4, 5, 6]\n"
          ]
        }
      ]
    },
    {
      "cell_type": "code",
      "source": [
        "print (len(a))"
      ],
      "metadata": {
        "colab": {
          "base_uri": "https://localhost:8080/"
        },
        "id": "6Oc93ilQXPm3",
        "outputId": "30f81c6d-75d9-4292-fab4-6a599bdedaee"
      },
      "execution_count": null,
      "outputs": [
        {
          "output_type": "stream",
          "name": "stdout",
          "text": [
            "6\n"
          ]
        }
      ]
    },
    {
      "cell_type": "code",
      "source": [
        "print(a)"
      ],
      "metadata": {
        "colab": {
          "base_uri": "https://localhost:8080/"
        },
        "id": "-9C-W7wuXRP_",
        "outputId": "6dfdb899-bfb5-441e-a26a-00a4a2f6c38c"
      },
      "execution_count": null,
      "outputs": [
        {
          "output_type": "stream",
          "name": "stdout",
          "text": [
            "{1, 2, 3, 4, 5, 6}\n"
          ]
        }
      ]
    },
    {
      "cell_type": "code",
      "source": [
        "### with out using  reverse string need to take last letter in the word. \n",
        "### we need to remove the duplicate value in list. \n",
        "a= \"test@gmail.com\"\n",
        "## need to seprate the sentence eg: test ."
      ],
      "metadata": {
        "id": "Y4SboJXAXWOd"
      },
      "execution_count": null,
      "outputs": []
    },
    {
      "cell_type": "code",
      "source": [
        "a= {1,2,3,4,5}\n",
        "b={3,4,5,6,7}\n",
        "a.intersection(b) ## intersection define same value in a and b"
      ],
      "metadata": {
        "colab": {
          "base_uri": "https://localhost:8080/"
        },
        "id": "bIQyuGTQYtqA",
        "outputId": "db9d8a0c-f8e6-4de4-b2f3-4361a648a416"
      },
      "execution_count": null,
      "outputs": [
        {
          "output_type": "execute_result",
          "data": {
            "text/plain": [
              "{3, 4, 5}"
            ]
          },
          "metadata": {},
          "execution_count": 73
        }
      ]
    },
    {
      "cell_type": "code",
      "source": [
        "a.union(b) ## unions defines all the both the values in a and b"
      ],
      "metadata": {
        "colab": {
          "base_uri": "https://localhost:8080/"
        },
        "id": "3k2zg9VnY9gO",
        "outputId": "d917672d-7ae9-402c-be5c-9a343bfbe927"
      },
      "execution_count": null,
      "outputs": [
        {
          "output_type": "execute_result",
          "data": {
            "text/plain": [
              "{1, 2, 3, 4, 5, 6, 7}"
            ]
          },
          "metadata": {},
          "execution_count": 74
        }
      ]
    },
    {
      "cell_type": "code",
      "source": [
        "a= {1,2,3,4,5}\n",
        "b={3,4,5,6,7}\n",
        "b.difference(a) ## differencaion refers to unique values"
      ],
      "metadata": {
        "colab": {
          "base_uri": "https://localhost:8080/"
        },
        "id": "942HD1rjZHwi",
        "outputId": "1ed279dd-d842-4715-81cb-dc48b9fce665"
      },
      "execution_count": null,
      "outputs": [
        {
          "output_type": "execute_result",
          "data": {
            "text/plain": [
              "{6, 7}"
            ]
          },
          "metadata": {},
          "execution_count": 78
        }
      ]
    },
    {
      "cell_type": "code",
      "source": [
        "a.difference(b)"
      ],
      "metadata": {
        "colab": {
          "base_uri": "https://localhost:8080/"
        },
        "id": "85JygsjVZK6S",
        "outputId": "f4ba6d3d-5f72-4467-94b0-72387c7dbcba"
      },
      "execution_count": null,
      "outputs": [
        {
          "output_type": "execute_result",
          "data": {
            "text/plain": [
              "{1, 2}"
            ]
          },
          "metadata": {},
          "execution_count": 79
        }
      ]
    },
    {
      "cell_type": "code",
      "source": [
        "a= {1,2,3}\n",
        "b={1,2,3,4,5,6}\n",
        "print(b.issubset(a)) # shows false if all the value of b is not mentioned in a\n",
        "print(a.issubset(b)) # shows through all the values mentioned in b"
      ],
      "metadata": {
        "colab": {
          "base_uri": "https://localhost:8080/"
        },
        "id": "vRmLRyHJZpi5",
        "outputId": "8c07048f-88d8-42d9-93d7-9af73f212bee"
      },
      "execution_count": null,
      "outputs": [
        {
          "output_type": "stream",
          "name": "stdout",
          "text": [
            "False\n",
            "True\n"
          ]
        }
      ]
    },
    {
      "cell_type": "code",
      "source": [
        "print(b.issuperset(a)) # shows false in if a does not have more value then b by including all the values \n",
        "print(a.issuperset(b)) # shows true if b value has more value then a "
      ],
      "metadata": {
        "colab": {
          "base_uri": "https://localhost:8080/"
        },
        "id": "YAumaNbrZ8Tc",
        "outputId": "407602c0-9706-4e7a-b853-e75d3dd54838"
      },
      "execution_count": null,
      "outputs": [
        {
          "output_type": "stream",
          "name": "stdout",
          "text": [
            "True\n",
            "False\n"
          ]
        }
      ]
    },
    {
      "cell_type": "code",
      "source": [
        "a= {\"name\" : \"dinesh\", \"location\": \"Madurai\" , \"age\" : \"20\"}\n",
        "print(min(a))\n",
        "print(max(a))\n",
        "print(sorted(a))\n",
        "print(len(a))\n",
        "print(a.keys())\n",
        "print(a.values())\n",
        "print(a.items())"
      ],
      "metadata": {
        "colab": {
          "base_uri": "https://localhost:8080/"
        },
        "id": "QNaYlDjkaJrf",
        "outputId": "f3cd736c-ed29-4084-df21-1aca5b0c3a65"
      },
      "execution_count": null,
      "outputs": [
        {
          "output_type": "stream",
          "name": "stdout",
          "text": [
            "age\n",
            "name\n",
            "['age', 'location', 'name']\n",
            "3\n",
            "dict_keys(['name', 'location', 'age'])\n",
            "dict_values(['dinesh', 'Madurai', '20'])\n",
            "dict_items([('name', 'dinesh'), ('location', 'Madurai'), ('age', '20')])\n"
          ]
        }
      ]
    },
    {
      "cell_type": "code",
      "source": [
        "a[\"name\"]"
      ],
      "metadata": {
        "colab": {
          "base_uri": "https://localhost:8080/",
          "height": 36
        },
        "id": "2FO7fG3qcxgT",
        "outputId": "70c25115-53c9-4643-d5cd-c4a1266fd318"
      },
      "execution_count": null,
      "outputs": [
        {
          "output_type": "execute_result",
          "data": {
            "text/plain": [
              "'dinesh'"
            ],
            "application/vnd.google.colaboratory.intrinsic+json": {
              "type": "string"
            }
          },
          "metadata": {},
          "execution_count": 87
        }
      ]
    },
    {
      "cell_type": "code",
      "source": [
        "a.get(\"name\")"
      ],
      "metadata": {
        "colab": {
          "base_uri": "https://localhost:8080/",
          "height": 36
        },
        "id": "0X42JAUMdbH6",
        "outputId": "436ec7ed-cbe1-47c0-ef11-2173cae01006"
      },
      "execution_count": null,
      "outputs": [
        {
          "output_type": "execute_result",
          "data": {
            "text/plain": [
              "'dinesh'"
            ],
            "application/vnd.google.colaboratory.intrinsic+json": {
              "type": "string"
            }
          },
          "metadata": {},
          "execution_count": 89
        }
      ]
    },
    {
      "cell_type": "code",
      "source": [
        "print(a.get(\"demo\"))"
      ],
      "metadata": {
        "colab": {
          "base_uri": "https://localhost:8080/"
        },
        "id": "bC_jYfjpdkKB",
        "outputId": "8dd2686c-0933-4ae3-c80f-6bd5efa4e0c7"
      },
      "execution_count": null,
      "outputs": [
        {
          "output_type": "stream",
          "name": "stdout",
          "text": [
            "None\n"
          ]
        }
      ]
    },
    {
      "cell_type": "code",
      "source": [
        "print(a.get(\"demo\", \"unga appa\")) # "
      ],
      "metadata": {
        "colab": {
          "base_uri": "https://localhost:8080/"
        },
        "id": "04F6092pdqCN",
        "outputId": "dee6785d-b72d-4b7f-8c19-a29aa141cc47"
      },
      "execution_count": null,
      "outputs": [
        {
          "output_type": "stream",
          "name": "stdout",
          "text": [
            "unga appa\n"
          ]
        }
      ]
    },
    {
      "cell_type": "code",
      "source": [
        "a"
      ],
      "metadata": {
        "colab": {
          "base_uri": "https://localhost:8080/"
        },
        "id": "fg8TqXIEdvJ8",
        "outputId": "51c63802-1f4d-404e-def9-5184fed9dabc"
      },
      "execution_count": null,
      "outputs": [
        {
          "output_type": "execute_result",
          "data": {
            "text/plain": [
              "{'name': 'dinesh', 'location': 'Madurai', 'age': '20'}"
            ]
          },
          "metadata": {},
          "execution_count": 92
        }
      ]
    },
    {
      "cell_type": "code",
      "source": [
        "a[\"demo\"]= \"test\" # adding of index "
      ],
      "metadata": {
        "id": "7xHkOh8_egBo"
      },
      "execution_count": null,
      "outputs": []
    },
    {
      "cell_type": "code",
      "source": [
        "a"
      ],
      "metadata": {
        "colab": {
          "base_uri": "https://localhost:8080/"
        },
        "id": "-TrKWNKiep-C",
        "outputId": "4347825a-0cc3-4fca-ea5a-30a2ecc8c8b3"
      },
      "execution_count": null,
      "outputs": [
        {
          "output_type": "execute_result",
          "data": {
            "text/plain": [
              "{'name': 'dinesh', 'location': 'Madurai', 'age': '20', 'demo': 'test'}"
            ]
          },
          "metadata": {},
          "execution_count": 94
        }
      ]
    },
    {
      "cell_type": "code",
      "source": [
        "del a[\"demo\"]"
      ],
      "metadata": {
        "id": "s2BYE7sBeyNZ"
      },
      "execution_count": null,
      "outputs": []
    },
    {
      "cell_type": "code",
      "source": [
        "a"
      ],
      "metadata": {
        "colab": {
          "base_uri": "https://localhost:8080/"
        },
        "id": "VmUZIjVJe2eZ",
        "outputId": "43afa4dd-3fed-42ac-8ed0-4dc278bebf6f"
      },
      "execution_count": null,
      "outputs": [
        {
          "output_type": "execute_result",
          "data": {
            "text/plain": [
              "{'name': 'dinesh', 'location': 'Madurai', 'age': '20'}"
            ]
          },
          "metadata": {},
          "execution_count": 96
        }
      ]
    },
    {
      "cell_type": "code",
      "source": [
        "a"
      ],
      "metadata": {
        "colab": {
          "base_uri": "https://localhost:8080/"
        },
        "id": "nMEAn7fPe3t0",
        "outputId": "4f9462ae-f677-4d35-9ed2-bfb19f3d28ea"
      },
      "execution_count": null,
      "outputs": [
        {
          "output_type": "execute_result",
          "data": {
            "text/plain": [
              "{'name': 'dinesh', 'location': 'Madurai', 'age': '20'}"
            ]
          },
          "metadata": {},
          "execution_count": 97
        }
      ]
    },
    {
      "cell_type": "code",
      "source": [
        "a"
      ],
      "metadata": {
        "colab": {
          "base_uri": "https://localhost:8080/"
        },
        "id": "syHWcmWpe5cx",
        "outputId": "64d00a31-79be-4fe1-fb0e-05415c278ebf"
      },
      "execution_count": null,
      "outputs": [
        {
          "output_type": "execute_result",
          "data": {
            "text/plain": [
              "{'name': 'dinesh', 'location': 'Madurai', 'age': '20'}"
            ]
          },
          "metadata": {},
          "execution_count": 98
        }
      ]
    },
    {
      "cell_type": "code",
      "source": [
        "a= {\"name\": \"dinesh\", \"name\" : \"kumar\"} ##  dictionary data sets only show the last value and removes the all duplicate values."
      ],
      "metadata": {
        "id": "vPdorA5ge_yB"
      },
      "execution_count": null,
      "outputs": []
    },
    {
      "cell_type": "code",
      "source": [
        "print(a)"
      ],
      "metadata": {
        "colab": {
          "base_uri": "https://localhost:8080/"
        },
        "id": "UZ4KayTlfNj8",
        "outputId": "133224f6-72d6-4f7c-be13-92c966a488bd"
      },
      "execution_count": null,
      "outputs": [
        {
          "output_type": "stream",
          "name": "stdout",
          "text": [
            "{'name': 'kumar'}\n"
          ]
        }
      ]
    },
    {
      "cell_type": "code",
      "source": [
        "### operators "
      ],
      "metadata": {
        "id": "675gR3ubfP5K"
      },
      "execution_count": null,
      "outputs": []
    },
    {
      "cell_type": "code",
      "source": [
        "## arithematic"
      ],
      "metadata": {
        "id": "syc-IisshI-E"
      },
      "execution_count": null,
      "outputs": []
    },
    {
      "cell_type": "code",
      "source": [
        "a= 5\n",
        "b= 4"
      ],
      "metadata": {
        "id": "pUBNQYHshP15"
      },
      "execution_count": null,
      "outputs": []
    },
    {
      "cell_type": "code",
      "source": [
        "print(a+b)\n",
        "print(a-b)\n",
        "print(a*b)\n",
        "print(a**b)\n",
        "print(a/b) ## reminder modulus \n",
        "print(a//b) ## quotient ## floor division"
      ],
      "metadata": {
        "colab": {
          "base_uri": "https://localhost:8080/"
        },
        "id": "FKJCYUlehSFU",
        "outputId": "528b0cc3-d6e1-420c-b02c-871e75fbb437"
      },
      "execution_count": null,
      "outputs": [
        {
          "output_type": "stream",
          "name": "stdout",
          "text": [
            "9\n",
            "1\n",
            "20\n",
            "625\n",
            "1.25\n",
            "1\n"
          ]
        }
      ]
    },
    {
      "cell_type": "code",
      "source": [
        "## assignment operator\n",
        "a=4"
      ],
      "metadata": {
        "id": "N6wE5sx7hwmK"
      },
      "execution_count": null,
      "outputs": []
    },
    {
      "cell_type": "code",
      "source": [
        "## relational operators\n",
        "a= 5\n",
        "b=5\n",
        "print(a==b)\n",
        "print(a!=b)\n",
        "print(a<b)\n",
        "print(a>b)\n",
        "print(a<=b)\n",
        "print(a>=b)"
      ],
      "metadata": {
        "colab": {
          "base_uri": "https://localhost:8080/"
        },
        "id": "_sNVmBm1iEjd",
        "outputId": "a48dc8a5-2c9c-4c0a-b1cc-61a988ec6d1c"
      },
      "execution_count": null,
      "outputs": [
        {
          "output_type": "stream",
          "name": "stdout",
          "text": [
            "True\n",
            "False\n",
            "False\n",
            "False\n",
            "True\n",
            "True\n"
          ]
        }
      ]
    },
    {
      "cell_type": "code",
      "source": [
        "##logial"
      ],
      "metadata": {
        "id": "5GnwX-Xui1DR"
      },
      "execution_count": null,
      "outputs": []
    },
    {
      "cell_type": "code",
      "source": [
        "print(True and True)\n",
        "print(True and False)\n",
        "print(True and False)\n",
        "print(not True)\n",
        "print(not False)\n"
      ],
      "metadata": {
        "colab": {
          "base_uri": "https://localhost:8080/"
        },
        "id": "p04nJ7BBi7r8",
        "outputId": "a42095dd-b446-43ca-8e88-089c111f4cf3"
      },
      "execution_count": null,
      "outputs": [
        {
          "output_type": "stream",
          "name": "stdout",
          "text": [
            "True\n",
            "False\n",
            "False\n",
            "False\n",
            "True\n"
          ]
        }
      ]
    },
    {
      "cell_type": "code",
      "source": [
        "##with out using  reverse string need to take last letter in the word. (Assignment 1)\n"
      ],
      "metadata": {
        "id": "AENax4V8jOeh"
      },
      "execution_count": null,
      "outputs": []
    },
    {
      "cell_type": "code",
      "source": [],
      "metadata": {
        "id": "Kn3AI4MRsFgn"
      },
      "execution_count": null,
      "outputs": []
    },
    {
      "cell_type": "code",
      "source": [
        "a= \"Itachi Uchiha\"\n",
        "last_letters = [word[-1] for word in a.split()]\n",
        "print(last_letters)"
      ],
      "metadata": {
        "colab": {
          "base_uri": "https://localhost:8080/"
        },
        "id": "oa1JM2CCsYuH",
        "outputId": "456c0e02-42f6-40c1-a593-20bb843f90d1"
      },
      "execution_count": null,
      "outputs": [
        {
          "output_type": "stream",
          "name": "stdout",
          "text": [
            "['i', 'a']\n"
          ]
        }
      ]
    },
    {
      "cell_type": "code",
      "source": [
        "##we need to remove the duplicate value in list. \n",
        "##a= \"test@gmail.com\" (assignemnt 2)"
      ],
      "metadata": {
        "id": "OMk5MPbusfNx"
      },
      "execution_count": null,
      "outputs": []
    },
    {
      "cell_type": "code",
      "source": [
        "a= \"test@gmail.com\"\n",
        "a= ''.join(set(a))\n",
        "print(a)\n"
      ],
      "metadata": {
        "colab": {
          "base_uri": "https://localhost:8080/"
        },
        "id": "aOwyswfAs8WQ",
        "outputId": "86bc9ee4-1812-42bf-8c78-024ea527afe5"
      },
      "execution_count": null,
      "outputs": [
        {
          "output_type": "stream",
          "name": "stdout",
          "text": [
            ".tag@lscimoe\n"
          ]
        }
      ]
    },
    {
      "cell_type": "code",
      "source": [
        "a= [1,2,3,4,4,5,2,1,3]\n",
        "print(a)\n",
        "a=set(a)\n",
        "a=list(a)\n",
        "print(a)"
      ],
      "metadata": {
        "id": "ylwsGQJPvfiR",
        "colab": {
          "base_uri": "https://localhost:8080/"
        },
        "outputId": "2740eb95-5810-4f44-d706-9ecbdb851c7f"
      },
      "execution_count": 5,
      "outputs": [
        {
          "output_type": "stream",
          "name": "stdout",
          "text": [
            "[1, 2, 3, 4, 4, 5, 2, 1, 3]\n",
            "[1, 2, 3, 4, 5]\n"
          ]
        }
      ]
    },
    {
      "cell_type": "code",
      "source": [
        "a= \"test@gmail.com\"\n",
        "a=a.split(\"@\")[0]\n",
        "print(a)\n",
        "a= \"test@gmail.com\"\n",
        "a=a.split(\"@\")[1]\n",
        "a=a.split(\".\")[0]\n",
        "print(a)\n",
        "a= \"test@gmail.com\"\n",
        "a=a.split(\".\")[1]\n",
        "print(a)"
      ],
      "metadata": {
        "colab": {
          "base_uri": "https://localhost:8080/"
        },
        "id": "_oK3TJkm4Z7j",
        "outputId": "52a80cfe-831d-41c2-d355-d071629a590c"
      },
      "execution_count": 14,
      "outputs": [
        {
          "output_type": "stream",
          "name": "stdout",
          "text": [
            "test\n",
            "gmail\n",
            "com\n"
          ]
        }
      ]
    },
    {
      "cell_type": "code",
      "source": [],
      "metadata": {
        "id": "-ZClzfFJ5gCn"
      },
      "execution_count": 14,
      "outputs": []
    },
    {
      "cell_type": "code",
      "source": [],
      "metadata": {
        "id": "txNqWR7k5oED"
      },
      "execution_count": null,
      "outputs": []
    }
  ]
}